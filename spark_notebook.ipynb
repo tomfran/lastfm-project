{
 "cells": [
  {
   "cell_type": "code",
   "execution_count": 1,
   "metadata": {},
   "outputs": [],
   "source": [
    "from google.cloud import storage\n",
    "import os\n",
    "import json\n",
    "from functools import reduce\n",
    "import pyspark\n",
    "import re\n",
    "from datetime import datetime\n",
    "from datetime import timezone"
   ]
  },
  {
   "cell_type": "code",
   "execution_count": 2,
   "metadata": {},
   "outputs": [
    {
     "data": {
      "text/html": [
       "\n",
       "        <div>\n",
       "            <p><b>SparkContext</b></p>\n",
       "\n",
       "            <p><a href=\"http://cluster-1cc8-m.europe-west6-a.c.lastfm-299413.internal:38007\">Spark UI</a></p>\n",
       "\n",
       "            <dl>\n",
       "              <dt>Version</dt>\n",
       "                <dd><code>v3.0.1</code></dd>\n",
       "              <dt>Master</dt>\n",
       "                <dd><code>yarn</code></dd>\n",
       "              <dt>AppName</dt>\n",
       "                <dd><code>PySparkShell</code></dd>\n",
       "            </dl>\n",
       "        </div>\n",
       "        "
      ],
      "text/plain": [
       "<SparkContext master=yarn appName=PySparkShell>"
      ]
     },
     "execution_count": 2,
     "metadata": {},
     "output_type": "execute_result"
    }
   ],
   "source": [
    "sc"
   ]
  },
  {
   "cell_type": "markdown",
   "metadata": {},
   "source": [
    "# Table of contents\n",
    "1. [Utility functions](#Utility-functions)\n",
    "2. [Data load and preprocessing](#Data-load-and-preprocessing)\n",
    "3. [Greatest hits queries](#Greatest-hits-queries)\n",
    "4. [Find users listening sessions](#Find-users-listening-sessions)\n",
    "5. [Stats about listening sessions](#Stats-about-listening-sessions)\n",
    "6. [Playlist analysis](#Playlist-analysis)\n",
    "7. [Incident matrix](#Incident-matrix)\n",
    "7. [Plots](#Plots)"
   ]
  },
  {
   "cell_type": "markdown",
   "metadata": {},
   "source": [
    "# Utility functions\n",
    "Functions below download bucket data from google cloud storage"
   ]
  },
  {
   "cell_type": "code",
   "execution_count": 3,
   "metadata": {},
   "outputs": [],
   "source": [
    "def list_blobs(bucket_name):\n",
    "    \"\"\"Lists all the blobs in the bucket.\"\"\"\n",
    "    # bucket_name = \"your-bucket-name\"\n",
    "\n",
    "    storage_client = storage.Client()\n",
    "\n",
    "    # Note: Client.list_blobs requires at least package version 1.17.0.\n",
    "    blobs = storage_client.list_blobs(bucket_name)\n",
    "\n",
    "    for blob in blobs:\n",
    "        print(blob.name)\n",
    "\n",
    "def download_blob(source_blob_name, destination_file_name, bucket_name=\"songs-lastfm\"):\n",
    "    \"\"\"Downloads a blob from the bucket.\"\"\"\n",
    "    # bucket_name = \"your-bucket-name\"\n",
    "    # source_blob_name = \"storage-object-name\"\n",
    "    # destination_file_name = \"local/path/to/file\"\n",
    "\n",
    "    storage_client = storage.Client()\n",
    "\n",
    "    bucket = storage_client.bucket(bucket_name)\n",
    "\n",
    "    # Construct a client side representation of a blob.\n",
    "    # Note `Bucket.blob` differs from `Bucket.get_blob` as it doesn't retrieve\n",
    "    # any content from Google Cloud Storage. As we don't need additional data,\n",
    "    # using `Bucket.blob` is preferred here.\n",
    "    blob = bucket.blob(source_blob_name)\n",
    "    blob.download_to_filename(destination_file_name)\n",
    "\n",
    "def list_blobs(bucket_name=\"songs-lastfm\"):\n",
    "    \"\"\"Lists all the blobs in the bucket.\"\"\"\n",
    "    # bucket_name = \"your-bucket-name\"\n",
    "\n",
    "    storage_client = storage.Client()\n",
    "\n",
    "    # Note: Client.list_blobs requires at least package version 1.17.0.\n",
    "    blobs = storage_client.list_blobs(bucket_name)\n",
    "\n",
    "    return [b.name for b in blobs]"
   ]
  },
  {
   "cell_type": "markdown",
   "metadata": {},
   "source": [
    "### Create directories and download new files"
   ]
  },
  {
   "cell_type": "code",
   "execution_count": 4,
   "metadata": {},
   "outputs": [],
   "source": [
    "storage_files = list_blobs()\n",
    "storage_files = [s for s in storage_files if \"sync\" not in s]\n",
    "dirs = set([\"/\".join(file_name.split(\"/\")[:-1]) for file_name in storage_files])\n",
    "for d in dirs:\n",
    "    try:\n",
    "        os.makedirs(d)\n",
    "    except:\n",
    "        pass\n",
    "\n",
    "import glob\n",
    "dir_cont = set(glob.glob(\"data/*/*\"))\n",
    "\n",
    "for f in set(storage_files) - dir_cont:\n",
    "    print('Downloading: ', f)\n",
    "    download_blob(f, f)"
   ]
  },
  {
   "cell_type": "markdown",
   "metadata": {},
   "source": [
    "# Load songs from downloaded files\n",
    "This creates an RDD containing songs info\n",
    "\n",
    "The process first builds small rdds with the songs gathered on a particular day, they then are merged to return the full RDD\n",
    "\n",
    "This prevents from loading too much data outside of an RDD"
   ]
  },
  {
   "cell_type": "code",
   "execution_count": 5,
   "metadata": {},
   "outputs": [],
   "source": [
    "def get_songs_rdd(dir_name=\"data/songs\"):\n",
    "    def add_timestamp(d, f):\n",
    "        s = re.sub(r'[^0-9]', '', f)\n",
    "        dt = datetime(int(s[0:4]), int(s[4:6]), int(s[6:8]))\n",
    "        d['timestamp'] = int(dt.replace(tzinfo=timezone.utc).timestamp())\n",
    "        return d\n",
    "            \n",
    "    def m(x):\n",
    "        data = {k:v for k, v in x.items() if k != 'song_id'}\n",
    "        data['duration'] = int(data['duration'])\n",
    "        return (x['song_id'], data)\n",
    "    \n",
    "    file_list = [f\"{dir_name}/{e}\" for e in os.listdir(dir_name)]\n",
    "\n",
    "    rdds = [sc.parallelize(json.load(open(f))).map(lambda x : add_timestamp(x, f)) for f in file_list]\n",
    "    rdd = reduce(lambda a,b : a.union(b), rdds)\n",
    "    rdd = rdd.map(m)\n",
    "    return rdd"
   ]
  },
  {
   "cell_type": "markdown",
   "metadata": {},
   "source": [
    "## Load listening sessions\n",
    "The function accept a time interval to load, the process follows the same discussed above"
   ]
  },
  {
   "cell_type": "code",
   "execution_count": 6,
   "metadata": {},
   "outputs": [],
   "source": [
    "def get_listening_rdd(interval='today', dir_name = 'data/listening_sessions'):\n",
    "    interval_nums = {'today': (0,1), 'yesterday' : (1,2), 'week' : (0,7), 'month' : (0,30)}\n",
    "        \n",
    "    if not interval=='all_time':\n",
    "        s,e = interval_nums[interval]\n",
    "        file_list = [f\"{dir_name}/{e}\" for e in sorted(os.listdir(dir_name), reverse=True)[s:e]]\n",
    "    else:\n",
    "        file_list = [f\"{dir_name}/{e}\" for e in sorted(os.listdir(dir_name), reverse=True)]\n",
    "        \n",
    "    rdds = [sc.parallelize(json.load(open(f))) for f in file_list]\n",
    "    rdd = reduce(lambda a,b : a.union(b), rdds)\n",
    "    return rdd"
   ]
  },
  {
   "cell_type": "markdown",
   "metadata": {},
   "source": [
    "# Greatest hits queries\n",
    "We first proceeed with the rdd creation from the loaded data, so we create a songs and listening sessions rdd\n",
    "\n",
    "## Songs RDD structure\n",
    "The rdd about songs will contain info about the tracks listened by the users, while the listening rdd contains users and songs couples\n",
    "\n",
    "Songs are mapped in: `song_id, {data}`\n",
    "\n",
    "For the sake of clarity, `song_id` is derived by the hash of the url of the song on Last.FM, as there is not an actual song id from the api\n",
    "\n",
    "## Listening sessions RDD structure\n",
    "The listening sessions rdd contains triples of `user, song_id, timestamp`, and an entry means that a given user listenend a given sogns at that point in time\n",
    "\n",
    "## Process\n",
    "The main idea of the following code is to:\n",
    "1. join over time listening sessions rdd and songs rdd, to find the right joined tuple\n",
    "2. assign a 1 to all the listening sessions to then reduce to find the total for each song\n",
    "3. sort by listening count to return the greatest hits\n",
    "\n",
    "## Filter by time\n",
    "The request is to compute the greatest hits of today, yesterday, last week and last month\n",
    "\n",
    "To compute the first two, we can simply load only the today and yesterday updates written in the blob storage, as they contain all the triples of users songs about the last two days\n",
    "\n",
    "Although the week and month rank could be computed incrementally, for the sake of simplicity, we proceed by loading the files regarding that period of time\n",
    "\n",
    "## Filter by genre\n",
    "To compute greatest hits given a genre, we first filter all the songs without that specified genre in the tags and then proceed with the process discussed above"
   ]
  },
  {
   "cell_type": "code",
   "execution_count": 7,
   "metadata": {},
   "outputs": [],
   "source": [
    "def top_songs(songs_rdd, listening_rdd, genre = None, num = 10):\n",
    "    '''\n",
    "    Songs rdd must be (id, {data})\n",
    "    Listenings rdd must be {id, ts, user}\n",
    "    '''\n",
    "    # if a genre is set, remove all unnecessary songs from the rdd\n",
    "    if genre:\n",
    "        songs_rdd = songs_rdd.filter(lambda x : 'top_tags' in x[1] and genre in x[1]['top_tags'])\n",
    "\n",
    "    #join over time\n",
    "    def first_map(x):\n",
    "        return (x[\"song_id\"], {k:v for k, v in x.items() if k != 'song_id'})\n",
    "    \n",
    "    def join_overtime_filter(x):\n",
    "        return x[1][0]['ts'] >= x[1][1]['timestamp']\n",
    "    \n",
    "    def join_overtime_reduce(a,b):\n",
    "        ts1 = a['timestamp']\n",
    "        ts2 = b['timestamp']\n",
    "        return a if ts1 > ts2 else b\n",
    "\n",
    "    def join_overtime_map(x):\n",
    "        s_id = x[0]\n",
    "        u_id = x[1][0]['user_id']\n",
    "        ts = x[1][0]['ts']\n",
    "        data = x[1][1]\n",
    "        return ((s_id, u_id, ts), data)\n",
    "\n",
    "    top_songs_rdd = listening_rdd.map(first_map).join(songs_rdd).filter(join_overtime_filter)\\\n",
    "                     .map(join_overtime_map).reduceByKey(join_overtime_reduce)\n",
    "    \n",
    "    \n",
    "    #map to then reduce\n",
    "    def one_map(x):\n",
    "        key = x[0][0]\n",
    "        data = (1, x[1])\n",
    "        return (key, data)\n",
    "\n",
    "    def count_reduce(a,b):\n",
    "        return (a[0] + b[0], b[1])\n",
    "    \n",
    "    def sort_rank(x):\n",
    "        return 1/x[1][0]\n",
    "    \n",
    "    top_songs_rdd = top_songs_rdd.map(one_map).reduceByKey(count_reduce).sortBy(sort_rank)\n",
    "\n",
    "    #map to return\n",
    "    def return_map(x):\n",
    "        return {\"artist_name\" : x[1][1][\"artist_name\"],\n",
    "                \"title\" : x[1][1][\"title\"],\n",
    "                \"listenings\" : x[1][0]}    \n",
    "    \n",
    "    return top_songs_rdd.map(return_map).take(num)"
   ]
  },
  {
   "cell_type": "markdown",
   "metadata": {},
   "source": [
    "## Print the hits"
   ]
  },
  {
   "cell_type": "code",
   "execution_count": 8,
   "metadata": {},
   "outputs": [],
   "source": [
    "def print_hits(h):\n",
    "    for i, e in enumerate(h):\n",
    "        print(f\"\\t{i+1}. {e['artist_name']} {e['title']} listenings {e['listenings']}\")"
   ]
  },
  {
   "cell_type": "markdown",
   "metadata": {},
   "source": [
    "## Greatest hits for today\n",
    "We load the right data, and then we call the function implemented above."
   ]
  },
  {
   "cell_type": "code",
   "execution_count": 9,
   "metadata": {},
   "outputs": [
    {
     "name": "stdout",
     "output_type": "stream",
     "text": [
      "Total songs in RDD: 192756\n",
      "Example of element in rdd:\n"
     ]
    },
    {
     "data": {
      "text/plain": [
       "(-9220369123009951801,\n",
       " {'album_artist': 'Litfiba',\n",
       "  'album_image': 'https://lastfm.freetls.fastly.net/i/u/300x300/3a1c53a3c3d1a007c639eb85865bdd6b.png',\n",
       "  'album_title': 'Eutòpia',\n",
       "  'artist_name': 'Litfiba',\n",
       "  'duration': 256000,\n",
       "  'title': \"L'impossibile\",\n",
       "  'url': 'https://www.last.fm/music/Litfiba/_/L%27impossibile',\n",
       "  'timestamp': 1610409600})"
      ]
     },
     "execution_count": 9,
     "metadata": {},
     "output_type": "execute_result"
    }
   ],
   "source": [
    "songs_rdd = get_songs_rdd()\n",
    "today_listenings = get_listening_rdd('today')\n",
    "\n",
    "print(f\"Total songs in RDD: {songs_rdd.count()}\\nExample of element in rdd:\")\n",
    "songs_rdd.first()"
   ]
  },
  {
   "cell_type": "code",
   "execution_count": 10,
   "metadata": {},
   "outputs": [
    {
     "name": "stdout",
     "output_type": "stream",
     "text": [
      "Total listenings in RDD: 4658\n",
      "Example of element in rdd:\n"
     ]
    },
    {
     "data": {
      "text/plain": [
       "{'song_id': 1696941948328048495, 'ts': 1615013595, 'user_id': 'hellishantares'}"
      ]
     },
     "execution_count": 10,
     "metadata": {},
     "output_type": "execute_result"
    }
   ],
   "source": [
    "print(f\"Total listenings in RDD: {today_listenings.count()}\\nExample of element in rdd:\")\n",
    "today_listenings.first()"
   ]
  },
  {
   "cell_type": "code",
   "execution_count": 11,
   "metadata": {},
   "outputs": [
    {
     "name": "stdout",
     "output_type": "stream",
     "text": [
      "Greatest hits for today:\n",
      "\n",
      "\t1. Taste of Dream Illusions listenings 22\n",
      "\t2. Willie Peyote Mai dire mai (La locura) listenings 21\n",
      "\t3. Colapesce Musica leggerissima listenings 17\n",
      "\t4. St. Vincent Pay Your Way In Pain listenings 12\n",
      "\t5. Coma_Cose Fiamme negli occhi listenings 11\n",
      "\t6. Madame Voce listenings 11\n",
      "\t7. Sharon Van Etten A Crime (By Big Red Machine) listenings 11\n",
      "\t8. Francesca Michielin Chiamami per nome listenings 9\n",
      "\t9. Ghemon Momento Perfetto listenings 9\n",
      "\t10. Arab Strap Bluebird listenings 9\n"
     ]
    }
   ],
   "source": [
    "top_10_songs_today = top_songs(songs_rdd, today_listenings, num=10)\n",
    "print('Greatest hits for today:\\n')\n",
    "print_hits(top_10_songs_today)"
   ]
  },
  {
   "cell_type": "markdown",
   "metadata": {},
   "source": [
    "## Greatest hits for last week"
   ]
  },
  {
   "cell_type": "code",
   "execution_count": 12,
   "metadata": {},
   "outputs": [
    {
     "name": "stdout",
     "output_type": "stream",
     "text": [
      "Greatest hits for this week:\n",
      "\n",
      "\t1. Nydia A Lofi Christmas listenings 49\n",
      "\t2. Sejr Untitled listenings 38\n",
      "\t3. Romero Ferro E Se Não Era Amor - Acústico listenings 37\n",
      "\t4. Madame Voce listenings 33\n",
      "\t5. Engentar Point Of No Return listenings 32\n",
      "\t6. Willie Peyote Mai dire mai (La locura) listenings 27\n",
      "\t7. Max Richter Mirrors listenings 25\n",
      "\t8. Colapesce Musica leggerissima listenings 24\n",
      "\t9. Taste of Dream Illusions listenings 22\n",
      "\t10. Willie Peyote Mai dire mai (La locura) listenings 21\n"
     ]
    }
   ],
   "source": [
    "week_listenings = get_listening_rdd('week')\n",
    "top_10_songs_week = top_songs(songs_rdd, week_listenings, num=10)\n",
    "print(\"Greatest hits for this week:\\n\")\n",
    "print_hits(top_10_songs_week)"
   ]
  },
  {
   "cell_type": "markdown",
   "metadata": {},
   "source": [
    "## Greatest hits for this month"
   ]
  },
  {
   "cell_type": "code",
   "execution_count": 13,
   "metadata": {},
   "outputs": [
    {
     "name": "stdout",
     "output_type": "stream",
     "text": [
      "Greatest hits for the month:\n",
      "\n",
      "\t1. Sissy Spacek Untitled listenings 78\n",
      "\t2. SHINee Don't Call Me listenings 78\n",
      "\t3. SHINee Don't Call Me listenings 72\n",
      "\t4. SHINee Body Rhythm listenings 54\n",
      "\t5. SHINee Kind listenings 54\n",
      "\t6. Nydia A Lofi Christmas listenings 49\n",
      "\t7. Sejr Untitled listenings 38\n",
      "\t8. Romero Ferro E Se Não Era Amor - Acústico listenings 37\n",
      "\t9. Susanne Sundfør Undercover listenings 36\n",
      "\t10. Madame Voce listenings 33\n"
     ]
    }
   ],
   "source": [
    "month_listenings = get_listening_rdd('month')\n",
    "top_10_songs_month = top_songs(songs_rdd, month_listenings, num=10)\n",
    "print(\"Greatest hits for the month:\\n\")\n",
    "print_hits(top_10_songs_month)"
   ]
  },
  {
   "cell_type": "markdown",
   "metadata": {},
   "source": [
    "## Greatest rock hits for this month"
   ]
  },
  {
   "cell_type": "code",
   "execution_count": 14,
   "metadata": {},
   "outputs": [
    {
     "name": "stdout",
     "output_type": "stream",
     "text": [
      "Greatest rock hits for the month:\n",
      "\n",
      "\t1. SHINee Don't Call Me listenings 72\n",
      "\t2. Mogwai Ritchie Sacramento listenings 14\n",
      "\t3. St. Vincent Pay Your Way In Pain listenings 12\n",
      "\t4. The Rolling Stones Beast Of Burden - Remastered listenings 10\n",
      "\t5. Men at Work Down Under listenings 10\n",
      "\t6. SHINee Don't Call Me listenings 9\n",
      "\t7. The Jeff Healey Band Angel Eyes listenings 9\n",
      "\t8. Pink Floyd Money - 2011 Remastered Version listenings 9\n",
      "\t9. Eric Clapton Catch Me If You Can listenings 8\n",
      "\t10. Pink Floyd The Final Cut - 2011 Remastered Version listenings 8\n"
     ]
    }
   ],
   "source": [
    "top_10_songs_month_rock = top_songs(songs_rdd, month_listenings, genre='rock', num=10)\n",
    "print(\"Greatest rock hits for the month:\\n\")\n",
    "print_hits(top_10_songs_month_rock)"
   ]
  },
  {
   "cell_type": "markdown",
   "metadata": {},
   "source": [
    "# Find users listening sessions\n",
    "A listening session is a sequence of songs, listened one after the other."
   ]
  },
  {
   "cell_type": "code",
   "execution_count": 15,
   "metadata": {},
   "outputs": [
    {
     "data": {
      "text/plain": [
       "{'song_id': 1696941948328048495, 'ts': 1615013595, 'user_id': 'hellishantares'}"
      ]
     },
     "execution_count": 15,
     "metadata": {},
     "output_type": "execute_result"
    }
   ],
   "source": [
    "listening_rdd = get_listening_rdd('all_time')\n",
    "listening_rdd.first()"
   ]
  },
  {
   "cell_type": "code",
   "execution_count": 16,
   "metadata": {},
   "outputs": [
    {
     "data": {
      "text/plain": [
       "(-9220369123009951801,\n",
       " {'album_artist': 'Litfiba',\n",
       "  'album_image': 'https://lastfm.freetls.fastly.net/i/u/300x300/3a1c53a3c3d1a007c639eb85865bdd6b.png',\n",
       "  'album_title': 'Eutòpia',\n",
       "  'artist_name': 'Litfiba',\n",
       "  'duration': 256000,\n",
       "  'title': \"L'impossibile\",\n",
       "  'url': 'https://www.last.fm/music/Litfiba/_/L%27impossibile',\n",
       "  'timestamp': 1610409600})"
      ]
     },
     "execution_count": 16,
     "metadata": {},
     "output_type": "execute_result"
    }
   ],
   "source": [
    "songs_rdd.first()"
   ]
  },
  {
   "cell_type": "markdown",
   "metadata": {},
   "source": [
    "## Duration imputation\n",
    "The `songs_rdd` is missing info about duration for some tracks. Such an information is crucial to compute listening sessions so a preprocessing imputation is needed.\n",
    "\n",
    "We start by computing the percentage of songs without a duration in the RDD."
   ]
  },
  {
   "cell_type": "code",
   "execution_count": 17,
   "metadata": {},
   "outputs": [
    {
     "name": "stdout",
     "output_type": "stream",
     "text": [
      "Songs without duration: 26.6 %\n"
     ]
    }
   ],
   "source": [
    "def get_null_duration(songs_rdd):\n",
    "    perc_no_dur = songs_rdd.filter(lambda x : x[1]['duration'] == 0).count()/songs_rdd.count()\n",
    "    print(f'Songs without duration: {round(perc_no_dur* 100, 1)} %')\n",
    "    \n",
    "get_null_duration(songs_rdd)"
   ]
  },
  {
   "cell_type": "markdown",
   "metadata": {},
   "source": [
    "## Imputation logic\n",
    "\n",
    "We start by computing the average lenght of songs in the RDD, and then the average lenght for each artist.\n",
    "\n",
    "The second info is preferred, as it is in a sense more precise and a better approximation for songs of a given artist.\n",
    "\n",
    "When the average about an artist is not found, i.e. all the songs of a given artist have 0 duration, the average of all sogns is used.\n",
    "## Average song lenght"
   ]
  },
  {
   "cell_type": "code",
   "execution_count": 18,
   "metadata": {},
   "outputs": [
    {
     "name": "stdout",
     "output_type": "stream",
     "text": [
      "Average song lenght: 3m:4s\n"
     ]
    }
   ],
   "source": [
    "songs_len = songs_rdd.count()\n",
    "average_song_dur = songs_rdd.map(lambda x : x[1]['duration']).filter(lambda x : x > 0).reduce(lambda a,b : a+b) // songs_len\n",
    "print(f\"Average song lenght: {int(average_song_dur/1000 /60)}m:\\\n",
    "{int((average_song_dur/1000 /60 - average_song_dur/1000 //60) * 60)}s\")"
   ]
  },
  {
   "cell_type": "markdown",
   "metadata": {},
   "source": [
    "## Find average song lenght for each artist\n",
    "We remove songs without a duration, and the reduce to compute the average lenght for each artist."
   ]
  },
  {
   "cell_type": "code",
   "execution_count": 19,
   "metadata": {},
   "outputs": [],
   "source": [
    "def get_avg_artist(songs_rdd):\n",
    "    def m(x):\n",
    "        return (x[1]['artist_name'], (int(x[1]['duration']), 1))\n",
    "\n",
    "    def r(a,b):\n",
    "        return (a[0]+b[0], a[1]+b[1])\n",
    "\n",
    "    def m2(x):\n",
    "        return {x[0] : x[1][0]//x[1][1]}\n",
    "\n",
    "    def r2(a,b):\n",
    "        a.update(b)\n",
    "        return a\n",
    "    \n",
    "    return songs_rdd.filter(lambda x : x[1]['duration'] > 0).map(m).reduceByKey(r).map(m2).reduce(r2)\n",
    "\n",
    "artist_avg_dict = get_avg_artist(songs_rdd)"
   ]
  },
  {
   "cell_type": "code",
   "execution_count": 20,
   "metadata": {},
   "outputs": [
    {
     "name": "stdout",
     "output_type": "stream",
     "text": [
      "Average duration dict for each artist in milliseconds\n",
      "\n",
      "Meg Myers, 263750\n",
      "Pulp, 293074\n",
      "Chet Baker Quintet, 231000\n",
      "Superorganism, 200937\n",
      "Baseball Furies, 120250\n",
      "...\n"
     ]
    }
   ],
   "source": [
    "print('Average duration dict for each artist in milliseconds\\n')\n",
    "print('\\n'.join([f\"{k}, {v}\" for k, v in artist_avg_dict.items()][:5]) + '\\n...')"
   ]
  },
  {
   "cell_type": "markdown",
   "metadata": {},
   "source": [
    "## Impute duration with artist average or overrall average\n",
    "We apply the logic discussed above, to impute duration in the `songs_rdd`"
   ]
  },
  {
   "cell_type": "code",
   "execution_count": 21,
   "metadata": {},
   "outputs": [],
   "source": [
    "def impute_songs_duration(songs_rdd, artist_dict, avg_len):\n",
    "    def m(x):\n",
    "        l = x[1]['duration'] or artist_dict.get(x[1][\"artist_name\"], avg_len)\n",
    "        x[1]['duration'] = l\n",
    "        return x\n",
    "    \n",
    "    return songs_rdd.map(m).persist()\n",
    "\n",
    "songs_rdd_imputed = impute_songs_duration(songs_rdd, artist_avg_dict, average_song_dur)"
   ]
  },
  {
   "cell_type": "markdown",
   "metadata": {},
   "source": [
    "### Check that duration is present"
   ]
  },
  {
   "cell_type": "code",
   "execution_count": 22,
   "metadata": {},
   "outputs": [
    {
     "name": "stdout",
     "output_type": "stream",
     "text": [
      "Songs without duration: 0.0 %\n"
     ]
    }
   ],
   "source": [
    "get_null_duration(songs_rdd_imputed)"
   ]
  },
  {
   "cell_type": "markdown",
   "metadata": {},
   "source": [
    "## Get listening sessions for users\n",
    "After the duration imputation, we can compute listening sessions about users.\n",
    "\n",
    "The logic behind the process is:\n",
    "1. Map the listening sessions rdd to `(song_id, (user_id, timestamp))`\n",
    "2. Join with the imputed rdd, that have a `(song_id, {data})` structure\n",
    "3. Map the joined rdd to restructure in `(user_id, (timestamp, duration, artist_name, title))`\n",
    "4. Sort the rdd, this will order for user name and timestamp\n",
    "5. Reduce by key, to aggregate continuous listenings:\n",
    "    - We first map the rdd in `(user, [[song]])`\n",
    "    - We then reduce taking in consideration the timestamp and duration of songs, so we will aggregate songs with a difference between end and start time lower than a specified threshold\n",
    "    \n",
    "The result will be an rdd with this structure: `(user_id, [[...first session...], [...second sessions...], ...])`"
   ]
  },
  {
   "cell_type": "code",
   "execution_count": 23,
   "metadata": {},
   "outputs": [],
   "source": [
    "import datetime\n",
    "\n",
    "def get_listening_sessions(listening_rdd, songs_rdd, ths = 30):\n",
    "    \n",
    "    def m1(x):\n",
    "        return (x['song_id'], (x[\"user_id\"], x['ts']))\n",
    "    \n",
    "    def m2(x):\n",
    "        song_key = x[0]\n",
    "        timestamp = datetime.datetime.fromtimestamp(x[1][0][1])\n",
    "        day_str = timestamp.strftime('%Y-%m-%d')\n",
    "        key = x[1][0][0]\n",
    "        ts = x[1][0][1]\n",
    "        dur = x[1][1]['duration']\n",
    "        an = x[1][1]['artist_name']\n",
    "        t = x[1][1]['title']\n",
    "        return ((key, day_str), [(ts, dur, an, t, song_key)])    \n",
    "    \n",
    "    def m3(x):\n",
    "        # check if b is close enought to the last listening session\n",
    "        # in a, else add a new session\n",
    "        #find the end in milliseconts, so last song start + it's duration\n",
    "        l = sorted(x[1])\n",
    "        a = [[l[0]]]\n",
    "        for e in l[1:]:\n",
    "            last_end = a[-1][-1][0] + a[-1][-1][1]//1000\n",
    "            if e[0] - last_end <= ths:\n",
    "                a[-1].append(e)\n",
    "            else:\n",
    "                a.append([e])\n",
    "        return (x[0][0], a)\n",
    "    \n",
    "    def red_sum(a,b):\n",
    "        return a+b\n",
    "        \n",
    "    return listening_rdd.map(m1).join(songs_rdd_imputed).map(m2).reduceByKey(red_sum).map(m3).reduceByKey(red_sum).persist()\n",
    "\n",
    "joined_rdd_red = get_listening_sessions(listening_rdd, songs_rdd_imputed, ths = 10)"
   ]
  },
  {
   "cell_type": "code",
   "execution_count": 24,
   "metadata": {},
   "outputs": [
    {
     "name": "stdout",
     "output_type": "stream",
     "text": [
      "User: klipspringer76\n",
      "\n",
      "[(1612179868, 180000, 'Tori Amos', 'A Nightingale Sang in Berkeley Square', -5003008105654416580)]\n",
      "\n",
      "[(1612183531, 180000, 'Tori Amos', 'A Nightingale Sang in Berkeley Square', -5003008105654416580)]\n",
      "\n",
      "[(1612183764, 427000, 'Tori Amos', 'Reindeer King', 3096794193112951858), (1612184191, 240000, 'Tori Amos', 'Teenage Hustling', -4607030985209712096), (1612184430, 234000, 'Tori Amos', 'Parasol', -338530556134345334), (1612184665, 224000, 'Tori Amos', \"Trouble's Lament\", 4979385706659392149), (1612184885, 262000, 'Tori Amos', \"Martha's Foolish Ginger\", -7723961419250483745), (1612185146, 230000, 'Tori Amos', 'Digital Ghost', -9137556700111392444), (1612185377, 165000, 'Tori Amos', 'Russia', -1304590119692650573), (1612185542, 410000, 'Tori Amos', 'The Beekeeper', 1497406475648316628)]\n",
      "...\n"
     ]
    }
   ],
   "source": [
    "first = joined_rdd_red.first()\n",
    "print(f\"User: {first[0]}\\n\\n\" +  '\\n\\n'.join(str(e) for e in first[1][:3]) + '\\n...')"
   ]
  },
  {
   "cell_type": "markdown",
   "metadata": {},
   "source": [
    "# Stats about listening sessions\n",
    "After finding listening sessions, we then compute stats about them.\n",
    "\n",
    "For each user we need:\n",
    "1. average number of tracks\n",
    "2. sessions duration\n",
    "3. number of sessions for each user\n",
    "\n",
    "The request is trivially accomplished with 3 map functions"
   ]
  },
  {
   "cell_type": "code",
   "execution_count": 25,
   "metadata": {},
   "outputs": [],
   "source": [
    "def listening_sessions_stats(rdd):\n",
    "    '''\n",
    "        Rdd must be (user, [[(ts, dur, ...),...], [...]])\n",
    "    '''\n",
    "    # average number of tracks\n",
    "    def avg_num_map(x):\n",
    "        trl = x[1]\n",
    "        tot = 0\n",
    "        for e in trl:\n",
    "            tot += len(e)\n",
    "        tot/= len(trl)\n",
    "        return round(tot, 2)\n",
    "    \n",
    "    # average duration in seconds\n",
    "    def avg_dur_map(x):\n",
    "        trl = x[1]\n",
    "        ss = [e[-1][0] + e[-1][1]-e[0][0] for e in trl]\n",
    "        tot = 0.0\n",
    "        for s in ss:\n",
    "            tot += s/len(ss)\n",
    "        return round(tot, 2)\n",
    "\n",
    "    # number of sessions\n",
    "    def num_ses_map(x):\n",
    "        return len(x[1])\n",
    "    # full map\n",
    "    def m(x):\n",
    "        return (x[0],  \n",
    "                   {'avg_song_number' : avg_num_map(x),\n",
    "                   'avg_session_duration' : avg_dur_map(x),\n",
    "                   'sessions_number' : num_ses_map(x)})\n",
    "    return rdd.map(m).persist()\n",
    "\n",
    "listening_sessions_stats_rdd = listening_sessions_stats(joined_rdd_red)"
   ]
  },
  {
   "cell_type": "code",
   "execution_count": 26,
   "metadata": {},
   "outputs": [
    {
     "name": "stdout",
     "output_type": "stream",
     "text": [
      "Listening sessions stats found:\n",
      "\n"
     ]
    },
    {
     "data": {
      "text/plain": [
       "[('klipspringer76',\n",
       "  {'avg_song_number': 3.03,\n",
       "   'avg_session_duration': 271529.2,\n",
       "   'sessions_number': 30}),\n",
       " ('Shopanhour',\n",
       "  {'avg_song_number': 2.82,\n",
       "   'avg_session_duration': 262692.31,\n",
       "   'sessions_number': 329}),\n",
       " ('juliet_nikki',\n",
       "  {'avg_song_number': 3.46,\n",
       "   'avg_session_duration': 211323.37,\n",
       "   'sessions_number': 1229})]"
      ]
     },
     "execution_count": 26,
     "metadata": {},
     "output_type": "execute_result"
    }
   ],
   "source": [
    "print(\"Listening sessions stats found:\\n\")\n",
    "listening_sessions_stats_rdd.take(3)"
   ]
  },
  {
   "cell_type": "markdown",
   "metadata": {},
   "source": [
    "# Playlist analysis\n",
    "\n",
    "The main idea of finding common playlists is to aggregate similar playlists into one and find listening totals\n",
    "\n",
    "We can accomplish the goal creating a graph of playlists and finding connected components over it\n",
    "\n",
    "## Preprocessing\n",
    "The preprocessing proceeds as follows:\n",
    "1. filter all playlist shorter than K songs, as they are not meaningful. For this example we used K = 5\n",
    "2. create a playlist dict, that is made of: `hash : playlist`\n",
    "3. define a jaccard distance function that compute the named distance between two playlists, given the hash"
   ]
  },
  {
   "cell_type": "code",
   "execution_count": 27,
   "metadata": {},
   "outputs": [],
   "source": [
    "def remove_short_playlists(x):\n",
    "    k = 5\n",
    "    l = filter(lambda x : len(x) >= k, [set([(t[2], t[3]) for t in e]) for e in x[1]])\n",
    "    return (x[0], list(l))\n",
    "\n",
    "def get_hash(x):\n",
    "    return [(hash(tuple(sorted(e))), tuple(sorted(e))) for e in x[1]]\n",
    "\n",
    "playlist_rdd = joined_rdd_red.map(remove_short_playlists).flatMap(get_hash).persist()"
   ]
  },
  {
   "cell_type": "code",
   "execution_count": 28,
   "metadata": {},
   "outputs": [],
   "source": [
    "playlist_dict = {e[0] : e[1] for e in playlist_rdd.collect()}"
   ]
  },
  {
   "cell_type": "markdown",
   "metadata": {},
   "source": [
    "## Jaccard distance with hash\n",
    "The functions computes the jaccard distance between two sets"
   ]
  },
  {
   "cell_type": "code",
   "execution_count": 29,
   "metadata": {},
   "outputs": [
    {
     "data": {
      "text/plain": [
       "0.0"
      ]
     },
     "execution_count": 29,
     "metadata": {},
     "output_type": "execute_result"
    }
   ],
   "source": [
    "def jaccard_distance(h1, h2):\n",
    "    s1 = set(playlist_dict[h1])\n",
    "    s2 = set(playlist_dict[h2])\n",
    "    n = len(s1.intersection(s2))\n",
    "    d = len(s1.union(s2))\n",
    "    return 1 - n/d if d > 0 else 0\n",
    "\n",
    "jaccard_distance(4745933338935317634, 4745933338935317634)"
   ]
  },
  {
   "cell_type": "markdown",
   "metadata": {},
   "source": [
    "## Graph creation\n",
    "### Node values\n",
    "The first step to the graph creation is to find the node values, we consider the times a playlist has been listened. Reducing by hash. This is equal to aggregate duplicates in the playlist list"
   ]
  },
  {
   "cell_type": "code",
   "execution_count": 30,
   "metadata": {},
   "outputs": [],
   "source": [
    "node_values = {e[0] : e[1] for e in \\\n",
    "               playlist_rdd.map(lambda x : (x[0], 1)).reduceByKey(lambda a,b : a+b).sortBy(lambda x : 1/x[1]).collect()}"
   ]
  },
  {
   "cell_type": "code",
   "execution_count": 31,
   "metadata": {},
   "outputs": [
    {
     "name": "stdout",
     "output_type": "stream",
     "text": [
      "Node : value\n",
      "\n",
      "7621878820166797851 : 19\n",
      "1171362996105805513 : 18\n",
      "674590603914504020 : 17\n",
      "-3280236370295106864 : 14\n",
      "-7475998916231459669 : 12\n",
      "...\n"
     ]
    }
   ],
   "source": [
    "print(\"Node : value\\n\")\n",
    "for k,v in list(node_values.items())[:5]:\n",
    "    print(f'{k} : {v}')\n",
    "print(\"...\")"
   ]
  },
  {
   "cell_type": "markdown",
   "metadata": {},
   "source": [
    "### Edges creation\n",
    "The graph is constructed as a complete graph between the nodes, where each edge has the jaccard distance between the two endpoints as weight.\n",
    "\n",
    "That would result in a really dense graph with approximately 6 million edges.\n",
    "As we filter the edges to consider only the ones with < 0.7 weight, the graph becomes quite sparse, with around 700 edges."
   ]
  },
  {
   "cell_type": "code",
   "execution_count": 32,
   "metadata": {},
   "outputs": [],
   "source": [
    "nodes_rdd = sc.parallelize(node_values.keys())"
   ]
  },
  {
   "cell_type": "code",
   "execution_count": 33,
   "metadata": {},
   "outputs": [],
   "source": [
    "def filter_by_jaccard(x):\n",
    "    return x[0] != x[1] and jaccard_distance(x[0], x[1]) <= 0.7\n",
    "\n",
    "graph = nodes_rdd.cartesian(nodes_rdd).filter(filter_by_jaccard).persist()"
   ]
  },
  {
   "cell_type": "code",
   "execution_count": 34,
   "metadata": {},
   "outputs": [
    {
     "name": "stdout",
     "output_type": "stream",
     "text": [
      "Total nodes in the graph : 11427\n",
      "Total possible edges: 130576329\n",
      "Total edges less than 0.7: 7078\n"
     ]
    }
   ],
   "source": [
    "print(f\"Total nodes in the graph : {nodes_rdd.count()}\\n\\\n",
    "Total possible edges: {nodes_rdd.count()**2}\\nTotal edges less than 0.7: {graph.count()}\")"
   ]
  },
  {
   "cell_type": "markdown",
   "metadata": {},
   "source": [
    "### Adjiacent list creation\n",
    "This equals to a reduce of the graph created above.\n",
    "The result is an adjiacent list for all nodes that have at least one neighboor."
   ]
  },
  {
   "cell_type": "code",
   "execution_count": 35,
   "metadata": {},
   "outputs": [
    {
     "data": {
      "text/plain": [
       "[(7621878820166797851, -281483623051610848),\n",
       " (7621878820166797851, 840813387720537162),\n",
       " (674590603914504020, -102318094700168576)]"
      ]
     },
     "execution_count": 35,
     "metadata": {},
     "output_type": "execute_result"
    }
   ],
   "source": [
    "graph.take(3)"
   ]
  },
  {
   "cell_type": "code",
   "execution_count": 36,
   "metadata": {},
   "outputs": [],
   "source": [
    "adj_list = graph.map(lambda x : (x[0], [x[1]])).reduceByKey(lambda a,b : a+b).persist()"
   ]
  },
  {
   "cell_type": "code",
   "execution_count": 37,
   "metadata": {},
   "outputs": [
    {
     "name": "stdout",
     "output_type": "stream",
     "text": [
      "Node: 1654520231568305341, adj: [8919819823646425334, -5895648807017815811, -6570241612637566713]...\n",
      "Node: -8382571061093466727, adj: [8919819823646425334, -5895648807017815811, -6570241612637566713]...\n",
      "...\n"
     ]
    }
   ],
   "source": [
    "for k, v in adj_list.sortBy(lambda x : 1/len(x[1])).take(2):\n",
    "    print(f\"Node: {k}, adj: {v[:3]}...\")\n",
    "print(\"...\")"
   ]
  },
  {
   "cell_type": "markdown",
   "metadata": {},
   "source": [
    "### Adj dict\n",
    "The dict is needed to acces neighboors in a convenient way"
   ]
  },
  {
   "cell_type": "code",
   "execution_count": 38,
   "metadata": {},
   "outputs": [],
   "source": [
    "adj_dict = {k: v for k,v in adj_list.collect()}"
   ]
  },
  {
   "cell_type": "markdown",
   "metadata": {},
   "source": [
    "## Connected components implementation\n",
    "We start a bfs from each node, computing the connected components"
   ]
  },
  {
   "cell_type": "code",
   "execution_count": 39,
   "metadata": {},
   "outputs": [
    {
     "name": "stdout",
     "output_type": "stream",
     "text": [
      "Number of connected components: 805\n"
     ]
    }
   ],
   "source": [
    "from collections import deque \n",
    "\n",
    "visited = set()\n",
    "cc = []\n",
    "\n",
    "def bfs(node):\n",
    "    q = deque([node])\n",
    "    while q:\n",
    "        e = q.popleft()\n",
    "        if e not in visited:\n",
    "            visited.add(e)\n",
    "            cc[-1].append(e)\n",
    "            q += [adj for adj in adj_dict[e] if adj not in visited]\n",
    "\n",
    "for node in adj_dict:\n",
    "    if node not in visited:\n",
    "        cc.append([])\n",
    "        bfs(node)\n",
    "\n",
    "# create ([node list], listening count)\n",
    "cc = [(e, reduce(lambda a,b : a+b, [node_values[c] for c in e])) for e in cc]\n",
    "print(f\"Number of connected components: {len(cc)}\")"
   ]
  },
  {
   "cell_type": "markdown",
   "metadata": {},
   "source": [
    "## Reduce connected component to common playlist\n",
    "We take for each connected component a generalization of the playlists in that component\n",
    "\n",
    "The first step is to retrieve the playlist from the `playlist_dict`, then we can compute the common"
   ]
  },
  {
   "cell_type": "code",
   "execution_count": 40,
   "metadata": {},
   "outputs": [
    {
     "name": "stdout",
     "output_type": "stream",
     "text": [
      "First retrieved connected component, with total listenings:\n"
     ]
    },
    {
     "data": {
      "text/plain": [
       "([{('Alabama Shakes', 'Hold On'),\n",
       "   ('Blonde Redhead', '23'),\n",
       "   ('Dope Lemon', 'Marinade'),\n",
       "   ('Eels', 'Man Up'),\n",
       "   ('Hoshi', 'Amour censure'),\n",
       "   ('Hoshi', 'Ta marinière'),\n",
       "   ('Mogwai', \"We're Not Done (End Title)\"),\n",
       "   ('Peter Schilling', 'Major Tom - Coming Home'),\n",
       "   ('Supergrass', 'Alright'),\n",
       "   ('The 1975', 'If You’re Too Shy (Let Me Know)'),\n",
       "   ('Yeah Yeah Yeahs', 'Slave')},\n",
       "  {('Alabama Shakes', 'Hold On'),\n",
       "   ('Dope Lemon', 'Marinade'),\n",
       "   ('Eels', 'Man Up'),\n",
       "   ('Hoshi', 'Ta marinière'),\n",
       "   ('Supergrass', 'Alright')},\n",
       "  {('Alabama Shakes', 'Hold On'),\n",
       "   ('Blonde Redhead', '23'),\n",
       "   ('City', 'Am Fenster'),\n",
       "   ('Dope Lemon', 'Marinade'),\n",
       "   ('Eels', 'Man Up'),\n",
       "   ('Mogwai', \"We're Not Done (End Title)\"),\n",
       "   ('Peter Schilling', 'Major Tom - Coming Home'),\n",
       "   ('Supergrass', 'Alright')},\n",
       "  {('Hoshi', 'Amour censure'),\n",
       "   ('Hoshi', 'Ta marinière'),\n",
       "   ('Matt Berninger', 'One more second'),\n",
       "   ('The 1975', 'If You’re Too Shy (Let Me Know)'),\n",
       "   ('Yeah Yeah Yeahs', 'Slave')},\n",
       "  {('Alabama Shakes', 'Hold On'),\n",
       "   ('Dope Lemon', 'Marinade'),\n",
       "   ('Eels', 'Man Up'),\n",
       "   ('Hoshi', 'Amour Censure'),\n",
       "   ('Hoshi', 'Ta marinière'),\n",
       "   ('Supergrass', 'Alright'),\n",
       "   ('The 1975', 'If You’re Too Shy (Let Me Know)'),\n",
       "   ('Yeah Yeah Yeahs', 'Slave')},\n",
       "  {('Alabama Shakes', 'Hold On'),\n",
       "   ('Dope Lemon', 'Marinade'),\n",
       "   ('Eels', 'Man Up'),\n",
       "   ('Hoshi', 'Amour censure'),\n",
       "   ('Hoshi', 'Ta marinière'),\n",
       "   ('Supergrass', 'Alright'),\n",
       "   ('The 1975', 'If You’re Too Shy (Let Me Know)'),\n",
       "   ('Yeah Yeah Yeahs', 'Slave')},\n",
       "  {('Eels', 'Man Up'),\n",
       "   ('GAZZELLE', 'Punk'),\n",
       "   ('Gaëtan Roussel', 'Les Belles Choses'),\n",
       "   ('Gaëtan Roussel', 'Par Dessus Tes Epaules'),\n",
       "   ('Hoshi', 'Amour censure'),\n",
       "   ('Hoshi', 'Ta marinière'),\n",
       "   ('Saez', 'Amandine II'),\n",
       "   ('Saez', 'Marguerite'),\n",
       "   ('The 1975', 'If You’re Too Shy (Let Me Know)'),\n",
       "   ('Yeah Yeah Yeahs', 'Slave')},\n",
       "  {('Alabama Shakes', 'Hold On'),\n",
       "   ('Blossoms', 'Honey Sweet'),\n",
       "   ('Bombay Bicycle Club', 'Eat, Sleep, Wake (Nothing But You)'),\n",
       "   ('Dope Lemon', 'Marinade'),\n",
       "   ('Eels', 'Man Up'),\n",
       "   ('Hoshi', 'Amour censure'),\n",
       "   ('Hoshi', 'Ta marinière'),\n",
       "   ('Joji', 'Run'),\n",
       "   ('Phoebe Bridgers', 'Kyoto'),\n",
       "   ('Supergrass', 'Alright'),\n",
       "   ('The 1975', 'If You’re Too Shy (Let Me Know)'),\n",
       "   ('The 1975', 'Robbers'),\n",
       "   ('Yeah Yeah Yeahs', 'Slave')},\n",
       "  {('Eels', 'Man Up'),\n",
       "   ('Hoshi', 'Amour censure'),\n",
       "   ('Hoshi', 'Ta marinière'),\n",
       "   ('The 1975', 'If You’re Too Shy (Let Me Know)'),\n",
       "   ('Yeah Yeah Yeahs', 'Slave')},\n",
       "  {('Hoshi', 'Amour censure'),\n",
       "   ('MF DOOM', \"That's That\"),\n",
       "   ('Sean Heathcliff', 'Shadow of the Wind'),\n",
       "   ('The 1975', 'If You’re Too Shy (Let Me Know)'),\n",
       "   ('Yeah Yeah Yeahs', 'Slave')},\n",
       "  {('David Bowie', 'Cat People (Putting Out Fire) - 2018 Remaster'),\n",
       "   ('GAZZELLE', 'Punk'),\n",
       "   ('Gaëtan Roussel', 'Les Belles Choses'),\n",
       "   ('Gaëtan Roussel', 'Par Dessus Tes Epaules'),\n",
       "   ('Saez', 'Amandine II'),\n",
       "   ('Saez', 'Marguerite')},\n",
       "  {('David Bowie', 'Cat People (Putting out Fire) - 2018 Remaster'),\n",
       "   ('GAZZELLE', 'Punk'),\n",
       "   ('Gaëtan Roussel', 'Les Belles Choses'),\n",
       "   ('Gaëtan Roussel', 'Par Dessus Tes Epaules'),\n",
       "   ('Saez', 'Amandine II'),\n",
       "   ('Saez', 'Marguerite')},\n",
       "  {('GAZZELLE', 'Punk'),\n",
       "   ('Gaëtan Roussel', 'Les Belles Choses'),\n",
       "   ('Gaëtan Roussel', 'Par Dessus Tes Epaules'),\n",
       "   ('Saez', 'Amandine II'),\n",
       "   ('Saez', 'Marguerite')},\n",
       "  {('David Bowie', 'Cat People (Putting out Fire) - 2018 Remaster'),\n",
       "   ('GAZZELLE', 'Punk'),\n",
       "   ('Gaëtan Roussel', 'Les Belles Choses'),\n",
       "   ('Saez', 'Amandine II'),\n",
       "   ('Saez', 'Marguerite')},\n",
       "  {('Gaëtan Roussel', 'Les Belles Choses'),\n",
       "   ('Gaëtan Roussel', 'Par Dessus Tes Epaules'),\n",
       "   ('Noir Désir', 'Charlie'),\n",
       "   ('Saez', 'Amandine II'),\n",
       "   ('Saez', 'Marguerite')},\n",
       "  {('David Bowie', 'Cat People (Putting Out Fire) - 2018 Remaster'),\n",
       "   ('GAZZELLE', 'Punk'),\n",
       "   ('Gaëtan Roussel', 'Les Belles Choses'),\n",
       "   ('Saez', 'Amandine II'),\n",
       "   ('Saez', 'Marguerite')},\n",
       "  {('David Bowie', 'Cat People (Putting Out Fire) - 2018 Remaster'),\n",
       "   ('GAZZELLE', 'Punk'),\n",
       "   ('Gaëtan Roussel', 'Les Belles Choses'),\n",
       "   ('Gaëtan Roussel', 'Par Dessus Tes Epaules'),\n",
       "   ('Noir Désir', 'Charlie'),\n",
       "   ('Saez', 'Amandine II'),\n",
       "   ('Saez', 'Marguerite')},\n",
       "  {('Blossoms', 'Honey Sweet'),\n",
       "   ('Bombay Bicycle Club', 'Eat, Sleep, Wake (Nothing But You)'),\n",
       "   ('Declan Mckenna', 'Make Me Your Queen'),\n",
       "   ('Joji', 'Run'),\n",
       "   ('Kings of Leon', 'Echoing'),\n",
       "   ('Phoebe Bridgers', 'Kyoto'),\n",
       "   ('The 1975', 'Robbers')}],\n",
       " 60)"
      ]
     },
     "execution_count": 40,
     "metadata": {},
     "output_type": "execute_result"
    }
   ],
   "source": [
    "def retrieve_playlist(x):\n",
    "    return ([set(playlist_dict[p]) for p in x[0]], x[1])\n",
    "\n",
    "cc_rdd = sc.parallelize(cc).map(retrieve_playlist).persist()\n",
    "print(\"First retrieved connected component, with total listenings:\")\n",
    "cc_rdd.sortBy(lambda x : 1/x[1]).first()"
   ]
  },
  {
   "cell_type": "markdown",
   "metadata": {},
   "source": [
    "### Find common playlist\n",
    "Find common computes the frequency of each song and keeps only the tracks that appears in more than ths% of playlists"
   ]
  },
  {
   "cell_type": "code",
   "execution_count": 41,
   "metadata": {},
   "outputs": [],
   "source": [
    "def find_common(playlist_list, ths = 0.6):\n",
    "    def r(a,b):\n",
    "        if not r.d:\n",
    "            r.d = {a : 1}\n",
    "        else:\n",
    "            r.d[b] = r.d.get(b, 0) + 1\n",
    "        return r.d\n",
    "    r.d = {}\n",
    "    \n",
    "    song_list = reduce(lambda a, b: a+b, [list(e) for e in playlist_list])\n",
    "    freq = {k: v/len(playlist_list) for k, v in reduce(r, song_list).items()}\n",
    "    return [k for k,v in freq.items() if v >= ths]"
   ]
  },
  {
   "cell_type": "markdown",
   "metadata": {},
   "source": [
    "### Top 5 playlists with ths = 0.5"
   ]
  },
  {
   "cell_type": "code",
   "execution_count": 53,
   "metadata": {},
   "outputs": [
    {
     "name": "stdout",
     "output_type": "stream",
     "text": [
      "Top 5 playlists\n",
      "\n",
      "1. 60 listenings:\n",
      "\t- Yeah Yeah Yeahs Slave\n",
      "\t- Dope Lemon Marinade\n",
      "\t- The 1975 If You’re Too Shy (Let Me Know)\n",
      "\t- Hoshi Ta marinière\n",
      "\t- Alabama Shakes Hold On\n",
      "\t- Eels Man Up\n",
      "\t- Hoshi Amour censure\n",
      "\t- Gaëtan Roussel Par Dessus Tes Epaules\n",
      "\t- Saez Marguerite\n",
      "\t- Gaëtan Roussel Les Belles Choses\n",
      "\t- GAZZELLE Punk\n",
      "\t- Saez Amandine II\n",
      "\n",
      "2. 46 listenings:\n",
      "\t- The Notwist Ghost\n",
      "\t- The Notwist Sans Soleil\n",
      "\t- The Notwist Night‘s Too Dark\n",
      "\t- The Notwist Oh Sweet Fire\n",
      "\t- The Notwist Into Love Again\n",
      "\t- The Notwist Al Sur\n",
      "\t- The Notwist Loose Ends\n",
      "\t- The Notwist Where you find me\n",
      "\t- The Notwist Exit Strategy To Myself\n",
      "\n",
      "3. 42 listenings:\n",
      "\t- The Avalanches Song For Barbara Payton\n",
      "\t- The Avalanches Interstellar Love\n",
      "\t- The Avalanches We Will Always Love You\n",
      "\t- The Avalanches Ghost Story Pt. 2\n",
      "\t- The Avalanches Solitary Ceremonies\n",
      "\t- The Avalanches The Divine Chord\n",
      "\t- The Avalanches Reflecting Light\n",
      "\t- The Avalanches Carrier Waves\n",
      "\t- The Avalanches We Go On\n",
      "\t- The Avalanches Ghost Story\n",
      "\t- The Avalanches Until Daylight Comes\n",
      "\t- The Avalanches Wherever You Go\n",
      "\n",
      "4. 35 listenings:\n",
      "\t- Yatoo Rainy Days\n",
      "\t- Nohidea falling down (feat. shiloh)\n",
      "\t- Spencer Hunt Twilight\n",
      "\t- Jordy Chandra Puddles\n",
      "\t- Pastel City Don't Leave Me Alone This Saturday Night\n",
      "\t- Kupla Afloat\n",
      "\t- Smeyeul. Solitary\n",
      "\t- SubTrailss LEAVE\n",
      "\n",
      "5. 28 listenings:\n",
      "\t- GAZZELLE Belva\n",
      "\t- GAZZELLE Però\n",
      "\t- GAZZELLE Coltellata (feat. tha Supreme)\n",
      "\t- GAZZELLE Lacri-ma\n",
      "\t- GAZZELLE 7\n",
      "\t- GAZZELLE OK\n",
      "\t- GAZZELLE Un po' come noi\n",
      "\t- GAZZELLE GBTR\n",
      "\t- GAZZELLE Scusa\n",
      "\t- GAZZELLE Destri\n",
      "\t- GAZZELLE Blu\n",
      "\n"
     ]
    }
   ],
   "source": [
    "top_playlists = cc_rdd.map(lambda x : (find_common(x[0], ths = 0.3), x[1])).sortBy(lambda x : 1/x[1]).take(5)\n",
    "print(\"Top 5 playlists\\n\")\n",
    "for i, v in enumerate(top_playlists):\n",
    "    song_list = '\\n'.join([f\"\\t- {e[0]} {e[1]}\" for e in v[0]])\n",
    "    print(f\"{i+1}. {v[1]} listenings:\\n{song_list}\\n\")"
   ]
  },
  {
   "cell_type": "markdown",
   "metadata": {},
   "source": [
    "# Incident matrix\n",
    "The last request is to find the incident matrix for the songs.\\\n",
    "The idea is to have a matrix, where the value `M[A][B]` represent the total times song B has been listenend after track A.\n",
    "\n",
    "We can use the joined_rdd_red, as it contains all the listening sessions with song artist, name and id\n",
    "\n",
    "## Process\n",
    "We take the couples hash, hash of consequent songs, and then we count the times a specific couple appears in the listening sessions"
   ]
  },
  {
   "cell_type": "code",
   "execution_count": 43,
   "metadata": {},
   "outputs": [],
   "source": [
    "def remove_one_song_zip(x):\n",
    "    l = [[(s[4],s[2], s[3]) for s in e] for e in x[1] if len(e) > 1]\n",
    "    return reduce(lambda a,b : a+b, [list(zip(s, s[1:])) for s in l]) if l else []\n",
    "\n",
    "incident_matrix = joined_rdd_red.flatMap(remove_one_song_zip).map(lambda x : (x, 1))\\\n",
    "                                .reduceByKey(lambda a,b : a+b).sortBy(lambda x : 1/x[1]).persist()"
   ]
  },
  {
   "cell_type": "code",
   "execution_count": 44,
   "metadata": {},
   "outputs": [
    {
     "data": {
      "text/plain": [
       "[(((6282346887820883511, 'Sissy Spacek', 'Untitled'),\n",
       "   (6282346887820883511, 'Sissy Spacek', 'Untitled')),\n",
       "  92),\n",
       " (((5118377346616581660, 'Garry Pitcairn', 'Devil'),\n",
       "   (5118377346616581660, 'Garry Pitcairn', 'Devil')),\n",
       "  90),\n",
       " (((6554474213947800973, 'SHINee', \"Don't Call Me\"),\n",
       "   (6554474213947800973, 'SHINee', \"Don't Call Me\")),\n",
       "  74),\n",
       " (((3485829611793793915, 'Sissy Spacek', 'Untitled'),\n",
       "   (3485829611793793915, 'Sissy Spacek', 'Untitled')),\n",
       "  72),\n",
       " (((6554763378221557331, 'Garry Pitcairn', 'Devil'),\n",
       "   (6554763378221557331, 'Garry Pitcairn', 'Devil')),\n",
       "  67)]"
      ]
     },
     "execution_count": 44,
     "metadata": {},
     "output_type": "execute_result"
    }
   ],
   "source": [
    "incident_matrix.take(5)"
   ]
  },
  {
   "cell_type": "markdown",
   "metadata": {},
   "source": [
    "# Plots"
   ]
  },
  {
   "cell_type": "code",
   "execution_count": 45,
   "metadata": {},
   "outputs": [],
   "source": [
    "top_tags_data_plot = dict(songs_rdd.filter(lambda x : 'top_tags' in x[1].keys()).flatMap(lambda x : x[1]['top_tags']).map(lambda x : (x,1)).reduceByKey(lambda a,b : a+b).sortBy(lambda x : 1/x[1]).take(10))"
   ]
  },
  {
   "cell_type": "code",
   "execution_count": 46,
   "metadata": {},
   "outputs": [
    {
     "data": {
      "image/png": "[encoded data removed]",
      "text/plain": [
       "<Figure size 720x360 with 1 Axes>"
      ]
     },
     "metadata": {},
     "output_type": "display_data"
    }
   ],
   "source": [
    "import seaborn as sns\n",
    "import matplotlib.pyplot as plt\n",
    "sns.set_theme(style=\"darkgrid\")\n",
    "plt.figure(figsize=(10, 5))\n",
    "top_songs_plot = sns.barplot(x=list(top_tags_data_plot.keys()), y=list(top_tags_data_plot.values()))\n",
    "top_songs_plot.set_xticklabels(top_songs_plot.get_xticklabels(),rotation=90)\n",
    "plt.title('Top tags', fontsize=20)\n",
    "#plt.show()\n",
    "#!pwd\n",
    "plt.savefig('top_tags.png')"
   ]
  },
  {
   "cell_type": "code",
   "execution_count": 47,
   "metadata": {},
   "outputs": [
    {
     "data": {
      "image/png": "[encoded data removed]",
      "text/plain": [
       "<Figure size 2160x720 with 3 Axes>"
      ]
     },
     "metadata": {},
     "output_type": "display_data"
    }
   ],
   "source": [
    "avg_song_number = listening_sessions_stats_rdd.map(lambda x: x[1]['avg_song_number']).collect()\n",
    "avg_session_duration = listening_sessions_stats_rdd.map(lambda x: x[1]['avg_session_duration']/1000).collect()\n",
    "sessions_number = listening_sessions_stats_rdd.map(lambda x: x[1]['sessions_number']).collect()\n",
    "avg_song_number = [a for a in avg_song_number if a < 20]\n",
    "\n",
    "fig, (ax1, ax2, ax3) = plt.subplots(1, 3, figsize=(30,10))\n",
    "sns.histplot(data=avg_song_number, x=avg_song_number, ax=ax1, color='#003f5c')\n",
    "ax1.set_title('Avg song number', fontsize=20)\n",
    "sns.histplot(data=avg_session_duration, x=avg_session_duration, ax=ax2, color='#bc5090')\n",
    "ax2.set_title('Avg session duration', fontsize=20)\n",
    "sns.histplot(data=sessions_number, x=sessions_number, ax=ax3, color='#ffa600')\n",
    "ax3.set_title('Sessions number', fontsize=20)\n",
    "plt.savefig(\"sessions_stats.png\")"
   ]
  },
  {
   "cell_type": "code",
   "execution_count": 48,
   "metadata": {},
   "outputs": [],
   "source": [
    "max_duration_for_plot = 10 * 60 #max 10 minutes\n",
    "\n",
    "duration_no_zero = songs_rdd.map(lambda x : x[1]['duration']/1000).filter(lambda x : x > 0).filter(lambda x : x <= max_duration_for_plot).collect()\n",
    "duration_imputed = songs_rdd_imputed.map(lambda x : x[1]['duration']/1000).filter(lambda x : x <= max_duration_for_plot).collect()"
   ]
  },
  {
   "cell_type": "code",
   "execution_count": 49,
   "metadata": {},
   "outputs": [
    {
     "data": {
      "image/png": "[encoded data removed]",
      "text/plain": [
       "<Figure size 1440x720 with 2 Axes>"
      ]
     },
     "metadata": {},
     "output_type": "display_data"
    }
   ],
   "source": [
    "fig, (ax1, ax2) = plt.subplots(1, 2, figsize=(20,10))\n",
    "sns.histplot(data=duration_no_zero, x=duration_no_zero, ax=ax1, color='#003f5c')\n",
    "ax1.set_title(f'Duration != 0, songs count = {len(duration_no_zero)}', fontsize=20)\n",
    "sns.histplot(data=duration_imputed, x=duration_imputed, ax=ax2, color='#bc5090')\n",
    "ax2.set_title(f'Duration imputed, songs count = {len(duration_imputed)}', fontsize=20)\n",
    "\n",
    "#plt.show()\n",
    "plt.savefig(\"songs_duration.png\")"
   ]
  },
  {
   "cell_type": "code",
   "execution_count": 55,
   "metadata": {},
   "outputs": [
    {
     "name": "stdout",
     "output_type": "stream",
     "text": [
      "(0.95, 94958)\n",
      "(0.8999999999999999, 20662)\n",
      "(0.8499999999999999, 12886)\n",
      "(0.7999999999999998, 9798)\n",
      "(0.7499999999999998, 7848)\n",
      "(0.6999999999999997, 6804)\n",
      "(0.6499999999999997, 6010)\n",
      "(0.5999999999999996, 5012)\n",
      "(0.5499999999999996, 4208)\n",
      "(0.49999999999999956, 3222)\n",
      "(0.4499999999999995, 2974)\n",
      "(0.39999999999999947, 2258)\n",
      "(0.3499999999999994, 1818)\n",
      "(0.2999999999999994, 1288)\n",
      "(0.24999999999999933, 842)\n",
      "(0.1999999999999993, 636)\n",
      "(0.14999999999999925, 352)\n",
      "(0.0999999999999992, 84)\n",
      "(0.049999999999999156, 2)\n"
     ]
    }
   ],
   "source": [
    "import numpy as np\n",
    "\n",
    "#number of edges plot\n",
    "cart = nodes_rdd.cartesian(nodes_rdd).repartition(2)\n",
    "ll = []\n",
    "for i in np.arange(0.95, 0, -.05):\n",
    "    def filter_by_jaccard(x):\n",
    "        return x[0] != x[1] and jaccard_distance(x[0], x[1]) <= i \n",
    "    cart = cart.filter(filter_by_jaccard).persist()\n",
    "    ll.append((i, cart.count()))\n",
    "    print(ll[-1])"
   ]
  },
  {
   "cell_type": "code",
   "execution_count": 56,
   "metadata": {},
   "outputs": [
    {
     "data": {
      "image/png": "[encoded data removed]",
      "text/plain": [
       "<Figure size 720x576 with 1 Axes>"
      ]
     },
     "metadata": {},
     "output_type": "display_data"
    }
   ],
   "source": [
    "dd = {round(a,2) : b for a,b in ll}\n",
    "plt.figure(figsize=(10, 8))\n",
    "edges_plot = sns.barplot(x= list(dd.keys()), y= list(dd.values()), palette=\"Blues_d\")\n",
    "\n",
    "plt.title('Number of edges with respect to jaccard distance', fontsize=20)\n",
    "plt.savefig(\"edges_jaccard.png\")"
   ]
  },
  {
   "cell_type": "code",
   "execution_count": 57,
   "metadata": {},
   "outputs": [
    {
     "data": {
      "text/plain": [
       "92"
      ]
     },
     "execution_count": 57,
     "metadata": {},
     "output_type": "execute_result"
    }
   ],
   "source": [
    "incident_matrix.first()[1]"
   ]
  },
  {
   "cell_type": "code",
   "execution_count": 58,
   "metadata": {},
   "outputs": [],
   "source": [
    "l = incident_matrix.map(lambda x : (x[0][0][1] == x[0][1][1], x[1])).reduceByKey(lambda a,b:a+b).collect()\n",
    "d = dict(l)\n",
    "same = d[True]\n",
    "other = d[False]"
   ]
  },
  {
   "cell_type": "code",
   "execution_count": 59,
   "metadata": {},
   "outputs": [
    {
     "data": {
      "image/png": "[encoded data removed]",
      "text/plain": [
       "<Figure size 720x576 with 1 Axes>"
      ]
     },
     "metadata": {},
     "output_type": "display_data"
    }
   ],
   "source": [
    "pie, ax = plt.subplots(figsize=[10,8])\n",
    "plt.pie([same,other], labels=[\"Repeated songs\", \"Different songs\"], autopct=\"%.1f%%\", startangle=90)\n",
    "plt.title(\"Incident matrix statistics\", fontsize=16);\n",
    "plt.savefig('pie.png')"
   ]
  }
 ],
 "metadata": {
  "kernelspec": {
   "display_name": "PySpark",
   "language": "python",
   "name": "pyspark"
  },
  "language_info": {
   "codemirror_mode": {
    "name": "ipython",
    "version": 3
   },
   "file_extension": ".py",
   "mimetype": "text/x-python",
   "name": "python",
   "nbconvert_exporter": "python",
   "pygments_lexer": "ipython3",
   "version": "3.8.6"
  }
 },
 "nbformat": 4,
 "nbformat_minor": 4
}
